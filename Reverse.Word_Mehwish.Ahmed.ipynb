{
 "cells": [
  {
   "cell_type": "code",
   "execution_count": null,
   "id": "fb752099",
   "metadata": {},
   "outputs": [],
   "source": [
    "Write a Python program that accepts a word from the user and reverse it.\n",
    "\n",
    "\n",
    "\n",
    "Sample Test Case\n",
    "\n",
    "\n",
    "\n",
    "Input : Edyoda\n",
    "\n",
    "output: adoydE"
   ]
  },
  {
   "cell_type": "code",
   "execution_count": null,
   "id": "c6ead34c",
   "metadata": {},
   "outputs": [],
   "source": [
    "a = input(\"Type a word\")\n",
    "\n",
    "def reverse_string(a):\n",
    "    b = \"\"\n",
    "    for i in a:\n",
    "        b = i + b\n",
    "    return b\n",
    "print(reverse_string(a))"
   ]
  },
  {
   "cell_type": "code",
   "execution_count": null,
   "id": "ad2c8b9b",
   "metadata": {},
   "outputs": [],
   "source": []
  }
 ],
 "metadata": {
  "kernelspec": {
   "display_name": "Python 3 (ipykernel)",
   "language": "python",
   "name": "python3"
  },
  "language_info": {
   "codemirror_mode": {
    "name": "ipython",
    "version": 3
   },
   "file_extension": ".py",
   "mimetype": "text/x-python",
   "name": "python",
   "nbconvert_exporter": "python",
   "pygments_lexer": "ipython3",
   "version": "3.9.7"
  }
 },
 "nbformat": 4,
 "nbformat_minor": 5
}
