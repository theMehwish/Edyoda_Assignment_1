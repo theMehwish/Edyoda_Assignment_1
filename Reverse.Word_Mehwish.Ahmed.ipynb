{
 "cells": [
  {
   "cell_type": "code",
   "execution_count": null,
   "id": "a1b1addb",
   "metadata": {},
   "outputs": [],
   "source": [
    "Write a Python program that accepts a word from the user and reverse it.\n",
    "\n",
    "\n",
    "\n",
    "Sample Test Case\n",
    "\n",
    "\n",
    "\n",
    "Input : Edyoda\n",
    "\n",
    "output: adoydE"
   ]
  },
  {
   "cell_type": "code",
   "execution_count": 2,
   "id": "3121698f",
   "metadata": {},
   "outputs": [
    {
     "name": "stdout",
     "output_type": "stream",
     "text": [
      "Type a word:Mehwish\n",
      "hsiwheM\n"
     ]
    }
   ],
   "source": [
    "a = input(\"Type a word:\")\n",
    "\n",
    "def reverse_string(a):\n",
    "    b = \"\"\n",
    "    for i in a:\n",
    "        b = i + b\n",
    "    return b\n",
    "print(reverse_string(a))"
   ]
  },
  {
   "cell_type": "code",
   "execution_count": null,
   "id": "75c938ef",
   "metadata": {},
   "outputs": [],
   "source": []
  }
 ],
 "metadata": {
  "kernelspec": {
   "display_name": "Python 3 (ipykernel)",
   "language": "python",
   "name": "python3"
  },
  "language_info": {
   "codemirror_mode": {
    "name": "ipython",
    "version": 3
   },
   "file_extension": ".py",
   "mimetype": "text/x-python",
   "name": "python",
   "nbconvert_exporter": "python",
   "pygments_lexer": "ipython3",
   "version": "3.9.7"
  }
 },
 "nbformat": 4,
 "nbformat_minor": 5
}
