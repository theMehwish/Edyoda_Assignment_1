{
 "cells": [
  {
   "cell_type": "code",
   "execution_count": null,
   "id": "34a6da45",
   "metadata": {},
   "outputs": [],
   "source": [
    "Write a Python program to get the Fibonacci series between 0 to 50\n",
    "\n",
    "\n",
    "\n",
    "Note : The Fibonacci Sequence is the series of numbers :\n",
    "\n",
    "0, 1, 1, 2, 3, 5, 8, 13, 21, ....\n",
    "\n",
    "Every next number is found by adding up the two numbers before it.\n",
    "\n",
    "Expected Output : 1 1 2 3 5 8 13 21 34 or 0 1 1 2 3 5 8 13 21 34"
   ]
  },
  {
   "cell_type": "code",
   "execution_count": 2,
   "id": "60629bbd",
   "metadata": {},
   "outputs": [
    {
     "name": "stdout",
     "output_type": "stream",
     "text": [
      "0 1 1 2 3 5 8 13 21 34 "
     ]
    }
   ],
   "source": [
    "x,y=0,1\n",
    "print(x,end=\" \")\n",
    "while y<50:\n",
    "    print(y,end=\" \")\n",
    "    x,y=y,x+y\n",
    "    "
   ]
  },
  {
   "cell_type": "code",
   "execution_count": null,
   "id": "5a4a1648",
   "metadata": {},
   "outputs": [],
   "source": []
  }
 ],
 "metadata": {
  "kernelspec": {
   "display_name": "Python 3 (ipykernel)",
   "language": "python",
   "name": "python3"
  },
  "language_info": {
   "codemirror_mode": {
    "name": "ipython",
    "version": 3
   },
   "file_extension": ".py",
   "mimetype": "text/x-python",
   "name": "python",
   "nbconvert_exporter": "python",
   "pygments_lexer": "ipython3",
   "version": "3.9.7"
  }
 },
 "nbformat": 4,
 "nbformat_minor": 5
}
