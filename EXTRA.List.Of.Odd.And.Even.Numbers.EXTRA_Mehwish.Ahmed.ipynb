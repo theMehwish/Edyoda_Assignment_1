{
 "cells": [
  {
   "cell_type": "code",
   "execution_count": null,
   "id": "1ba0c441",
   "metadata": {},
   "outputs": [],
   "source": [
    "Write a Python program to count the number of even and odd numbers from a series of numbers.\n",
    "\n",
    "\n",
    "\n",
    "Sample numbers : numbers = (1, 2, 3, 4, 5, 6, 7, 8, 9) \n",
    "\n",
    "Expected Output :\n",
    "\n",
    "Number of even numbers : 4\n",
    "\n",
    "Number of odd numbers : 5"
   ]
  },
  {
   "cell_type": "code",
   "execution_count": 2,
   "id": "617a4f28",
   "metadata": {},
   "outputs": [
    {
     "name": "stdout",
     "output_type": "stream",
     "text": [
      "List of even numbers are: \n",
      "2 4 6 8 \n",
      "and\n",
      "No. of Even numbers are: 4\n",
      "\n",
      "List of odd numbers are: \n",
      "1 3 5 7 9 \n",
      "and\n",
      "No. of Odd numbers are: 5\n"
     ]
    }
   ],
   "source": [
    "a = (1,2,3,4,5,6,7,8,9)\n",
    "\n",
    "even, odd = 0,0\n",
    "for i in a:\n",
    "    if i % 2==0:\n",
    "        even += 1\n",
    "    else:\n",
    "        odd += 1\n",
    "\n",
    "print(\"List of even numbers are: \")     #List of Even Numbers\n",
    "for m in a:\n",
    "    if m %2==0:\n",
    "        print(m, end = \" \")\n",
    "print(\"\\n\"\"and\"\"\\n\"\"No. of Even numbers are:\",even)     #List of Odd Numbers\n",
    "        \n",
    "print(\"\\n\"\"List of odd numbers are: \")\n",
    "for n in a:\n",
    "    if n %2==1:\n",
    "        print(n, end = \" \")\n",
    "print(\"\\n\"\"and\"\"\\n\"\"No. of Odd numbers are:\",odd)"
   ]
  },
  {
   "cell_type": "code",
   "execution_count": null,
   "id": "48a96d0a",
   "metadata": {},
   "outputs": [],
   "source": []
  }
 ],
 "metadata": {
  "kernelspec": {
   "display_name": "Python 3 (ipykernel)",
   "language": "python",
   "name": "python3"
  },
  "language_info": {
   "codemirror_mode": {
    "name": "ipython",
    "version": 3
   },
   "file_extension": ".py",
   "mimetype": "text/x-python",
   "name": "python",
   "nbconvert_exporter": "python",
   "pygments_lexer": "ipython3",
   "version": "3.9.7"
  }
 },
 "nbformat": 4,
 "nbformat_minor": 5
}
